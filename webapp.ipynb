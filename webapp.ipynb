{
 "cells": [
  {
   "cell_type": "code",
   "execution_count": 1,
   "id": "a9aed31b",
   "metadata": {},
   "outputs": [
    {
     "name": "stderr",
     "output_type": "stream",
     "text": [
      "2023-11-07 21:27:17.712 INFO    numexpr.utils: NumExpr defaulting to 8 threads.\n"
     ]
    }
   ],
   "source": [
    "import streamlit as st\n",
    "import pandas as pd\n",
    "from PIL import Image"
   ]
  },
  {
   "cell_type": "code",
   "execution_count": 3,
   "id": "082386fc",
   "metadata": {},
   "outputs": [
    {
     "data": {
      "text/plain": [
       "DeltaGenerator(_root_container=1, _provided_cursor=None, _parent=DeltaGenerator(_root_container=0, _provided_cursor=None, _parent=None, _block_type=None, _form_data=None), _block_type=None, _form_data=None)"
      ]
     },
     "execution_count": 3,
     "metadata": {},
     "output_type": "execute_result"
    }
   ],
   "source": [
    "st.write('''\n",
    "# visualizing stock data\n",
    "**Karami milad**\n",
    "''')\n",
    "img=Image.open('C:/Users/lenovo/trade.jpg')\n",
    "st.image(img,width=600,caption='Karami Milad')\n",
    "st.sidebar.header('Input Data')"
   ]
  },
  {
   "cell_type": "code",
   "execution_count": 4,
   "id": "b91c9bcb",
   "metadata": {},
   "outputs": [],
   "source": [
    "def get_input():\n",
    "    numb=st.sidebar.text_input('N Last Days',50)\n",
    "    stock_symbol=st.sidebar.text_input('insert stock symbol','FOOLAD')\n",
    "    return stock_symbol , numb"
   ]
  },
  {
   "cell_type": "code",
   "execution_count": 5,
   "id": "2c3f371f",
   "metadata": {},
   "outputs": [],
   "source": [
    "def get_company_name(symbol):\n",
    "    if symbol=='FOOLAD':\n",
    "        return 'FOOLAD'\n",
    "    elif symbol== 'KHODRO':\n",
    "        return 'KHODRO'\n",
    "    elif symbol== 'AMZN':\n",
    "        return 'AMAZON'\n",
    "    elif symbol=='TSLA':\n",
    "        return 'TESLA'\n",
    "    else :\n",
    "        'NONE'"
   ]
  },
  {
   "cell_type": "code",
   "execution_count": 10,
   "id": "fe0d4eaa",
   "metadata": {},
   "outputs": [],
   "source": [
    "def get_data(symbol,n):\n",
    "    if symbol.upper()=='FOOLAD':\n",
    "        df=pd.read_csv('C:/Users/lenovo/foolad.csv')\n",
    "    elif symbol.upper()=='KHODRO':\n",
    "        df=pd.read_csv('C:/Users/lenovo/khodro.csv')\n",
    "    elif symbol.upper()=='AMZN':\n",
    "        df=pd.read_csv('C:/Users/lenovo/amzn.csv')\n",
    "    elif symbol.upper()=='TSLA':\n",
    "        df=pd.read_csv('C:/Users/lenovo/tsla.csv')\n",
    "    else:\n",
    "        df=pd.DataFrame(columns=['Date','First','High','Low','Close','Value','Volume','Openint','Per','Open','last'])\n",
    "        \n",
    "    df=df.set_index(pd.DatetimeIndex(df['Date'].values))\n",
    "    n= int(n)\n",
    "    df=df.head(n)\n",
    "    return df"
   ]
  },
  {
   "cell_type": "code",
   "execution_count": 11,
   "id": "0f45cb73",
   "metadata": {},
   "outputs": [],
   "source": [
    "symbol , n = get_input()\n",
    "df=get_data(symbol,n)\n",
    "company=get_company_name(symbol.upper())\n",
    "st.header(company + ' Close Price\\n')\n",
    "st.line_chart(df['Close'])\n",
    "st.header(company + ' Volume\\n')\n",
    "st.line_chart(df['Volume'])\n",
    "st.header('Stock Datas')\n",
    "st.write(df.describe())"
   ]
  },
  {
   "cell_type": "code",
   "execution_count": null,
   "id": "3e5288ae",
   "metadata": {},
   "outputs": [],
   "source": []
  }
 ],
 "metadata": {
  "kernelspec": {
   "display_name": "Python 3 (ipykernel)",
   "language": "python",
   "name": "python3"
  },
  "language_info": {
   "codemirror_mode": {
    "name": "ipython",
    "version": 3
   },
   "file_extension": ".py",
   "mimetype": "text/x-python",
   "name": "python",
   "nbconvert_exporter": "python",
   "pygments_lexer": "ipython3",
   "version": "3.9.7"
  }
 },
 "nbformat": 4,
 "nbformat_minor": 5
}
