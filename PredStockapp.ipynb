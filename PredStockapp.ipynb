{
 "cells": [
  {
   "cell_type": "code",
   "execution_count": 1,
   "id": "b4632894",
   "metadata": {},
   "outputs": [],
   "source": [
    "import matplotlib.pyplot as plt\n",
    "import math\n",
    "import numpy as np\n",
    "import pandas as pd\n",
    "from sklearn.preprocessing import MinMaxScaler\n",
    "from keras.models import Sequential\n",
    "from keras.layers import Dense,LSTM\n",
    "import streamlit as st\n",
    "from PIL import Image\n",
    "plt.style.use('fivethirtyeight')"
   ]
  },
  {
   "cell_type": "code",
   "execution_count": 2,
   "id": "d6cffbab",
   "metadata": {},
   "outputs": [
    {
     "name": "stderr",
     "output_type": "stream",
     "text": [
      "2023-11-09 22:43:02.149 \n",
      "  \u001b[33m\u001b[1mWarning:\u001b[0m to view this Streamlit app on a browser, run it with the following\n",
      "  command:\n",
      "\n",
      "    streamlit run C:\\ProgramData\\Anaconda3\\lib\\site-packages\\ipykernel_launcher.py [ARGUMENTS]\n"
     ]
    },
    {
     "data": {
      "text/plain": [
       "DeltaGenerator(_root_container=0, _provided_cursor=None, _parent=None, _block_type=None, _form_data=None)"
      ]
     },
     "execution_count": 2,
     "metadata": {},
     "output_type": "execute_result"
    }
   ],
   "source": [
    "st.write('''\n",
    "# STOCK PRICE PREDICTOR\n",
    "\n",
    "**Karami Milad**\n",
    "''')\n",
    "img=Image.open('C:/Users/lenovo/trade.jpg')\n",
    "st.image(img,width=600)"
   ]
  },
  {
   "cell_type": "code",
   "execution_count": 3,
   "id": "43946116",
   "metadata": {},
   "outputs": [],
   "source": [
    "st.sidebar.header('INSERT DATA')\n",
    "def data():\n",
    "    symbol=st.sidebar.selectbox('select the symbol',['AMZN','FOOLAD','KHODRO','TSLA'])\n",
    "    return symbol"
   ]
  },
  {
   "cell_type": "code",
   "execution_count": 6,
   "id": "73bbf62f",
   "metadata": {},
   "outputs": [],
   "source": [
    "def get_data(symbol):\n",
    "    if symbol=='FOOLAD':\n",
    "        df=pd.read_csv('C:/Users/lenovo/foolad.csv')\n",
    "    elif symbol=='KHODRO':\n",
    "        df=pd.read_csv('C:/Users/lenovo/khodro.csv')\n",
    "    elif symbol=='AMZN':\n",
    "        df=pd.read_csv('C:/Users/lenovo/amzn.csv')\n",
    "    elif symbol=='TSLA':\n",
    "        df=pd.read_csv('C:/Users/lenovo/tsla.csv')\n",
    "    df=df.set_index(pd.DatetimeIndex(df['Date'].values))  \n",
    "    return df"
   ]
  },
  {
   "cell_type": "code",
   "execution_count": 7,
   "id": "73070898",
   "metadata": {},
   "outputs": [],
   "source": [
    "symbol =data()\n",
    "df=get_data(symbol)\n",
    "data=df.filter(['Close'])\n",
    "dataset=data.values\n",
    "training_data_len=math.ceil(len(dataset)*0.8)\n",
    "scaler=MinMaxScaler(feature_range=(0,1))\n",
    "scaled_data=scaler.fit_transform(dataset)"
   ]
  },
  {
   "cell_type": "code",
   "execution_count": 8,
   "id": "b66d5df2",
   "metadata": {},
   "outputs": [],
   "source": [
    "training_data=scaled_data[0:training_data_len , :]"
   ]
  },
  {
   "cell_type": "code",
   "execution_count": 9,
   "id": "e217c8ce",
   "metadata": {},
   "outputs": [],
   "source": [
    "xtrain=[]\n",
    "ytrain=[]\n",
    "n=60"
   ]
  },
  {
   "cell_type": "code",
   "execution_count": 10,
   "id": "e77642a8",
   "metadata": {},
   "outputs": [],
   "source": [
    "for i in range(n,len(training_data)):\n",
    "    xtrain.append(training_data[i-n:i , 0])\n",
    "    ytrain.append(training_data[i,0])"
   ]
  },
  {
   "cell_type": "code",
   "execution_count": 11,
   "id": "1dd51b80",
   "metadata": {},
   "outputs": [],
   "source": [
    "xtrain , ytrain = np.array(xtrain),np.array(ytrain)"
   ]
  },
  {
   "cell_type": "code",
   "execution_count": 12,
   "id": "827adf19",
   "metadata": {},
   "outputs": [],
   "source": [
    "xtrain=np.reshape(xtrain,(xtrain.shape[0],xtrain.shape[1],1))"
   ]
  },
  {
   "cell_type": "code",
   "execution_count": 13,
   "id": "8d689081",
   "metadata": {},
   "outputs": [],
   "source": [
    "model=Sequential()\n",
    "model.add(LSTM(50,return_sequences=True,input_shape=(xtrain.shape[1],1)))\n",
    "model.add(LSTM(50,return_sequences=False))\n",
    "model.add(Dense(25))\n",
    "model.add(Dense(1))"
   ]
  },
  {
   "cell_type": "code",
   "execution_count": 14,
   "id": "13621902",
   "metadata": {},
   "outputs": [
    {
     "name": "stdout",
     "output_type": "stream",
     "text": [
      "4571/4571 [==============================] - 152s 32ms/step - loss: 4.1925e-05\n"
     ]
    },
    {
     "data": {
      "text/plain": [
       "<keras.callbacks.History at 0x14de34f1a60>"
      ]
     },
     "execution_count": 14,
     "metadata": {},
     "output_type": "execute_result"
    }
   ],
   "source": [
    "model.compile(optimizer='adam',loss='mean_squared_error')\n",
    "model.fit(xtrain,ytrain,batch_size=1,epochs=1)"
   ]
  },
  {
   "cell_type": "code",
   "execution_count": 15,
   "id": "f42c8bd6",
   "metadata": {},
   "outputs": [],
   "source": [
    "test_data=scaled_data[training_data_len - n : , :]\n",
    "xtest=[]\n",
    "ytest=dataset[training_data_len: , :]\n",
    "for i in range(n,len(test_data)):\n",
    "    xtest.append(test_data[i-n:i,0]) "
   ]
  },
  {
   "cell_type": "code",
   "execution_count": 16,
   "id": "bcfce6be",
   "metadata": {},
   "outputs": [],
   "source": [
    "xtest=np.array(xtest)\n",
    "xtest=np.reshape(xtest,(xtest.shape[0],xtest.shape[1],1))"
   ]
  },
  {
   "cell_type": "code",
   "execution_count": 17,
   "id": "4ec6d116",
   "metadata": {},
   "outputs": [
    {
     "name": "stdout",
     "output_type": "stream",
     "text": [
      "37/37 [==============================] - 3s 32ms/step\n"
     ]
    },
    {
     "data": {
      "text/plain": [
       "DeltaGenerator(_root_container=0, _provided_cursor=None, _parent=None, _block_type=None, _form_data=None)"
      ]
     },
     "execution_count": 17,
     "metadata": {},
     "output_type": "execute_result"
    }
   ],
   "source": [
    "prediction=model.predict(xtest)\n",
    "prediction=scaler.inverse_transform(prediction)\n",
    "rmse =np.sqrt(np.mean(((prediction- ytest)**2)))\n",
    "st.header('RMSE: ')\n",
    "st.success(rmse)"
   ]
  },
  {
   "cell_type": "code",
   "execution_count": 18,
   "id": "0f75f6ba",
   "metadata": {},
   "outputs": [
    {
     "name": "stderr",
     "output_type": "stream",
     "text": [
      "C:\\Users\\lenovo\\AppData\\Local\\Temp/ipykernel_20112/3517524298.py:3: SettingWithCopyWarning: \n",
      "A value is trying to be set on a copy of a slice from a DataFrame.\n",
      "Try using .loc[row_indexer,col_indexer] = value instead\n",
      "\n",
      "See the caveats in the documentation: https://pandas.pydata.org/pandas-docs/stable/user_guide/indexing.html#returning-a-view-versus-a-copy\n",
      "  valid['prediction']=prediction\n"
     ]
    }
   ],
   "source": [
    "train=data[:training_data_len]\n",
    "valid=data[training_data_len:]\n",
    "valid['prediction']=prediction"
   ]
  },
  {
   "cell_type": "code",
   "execution_count": 19,
   "id": "06f2b15e",
   "metadata": {},
   "outputs": [
    {
     "data": {
      "image/png": "[encoded data removed]",
      "text/plain": [
       "<Figure size 1152x576 with 1 Axes>"
      ]
     },
     "metadata": {},
     "output_type": "display_data"
    }
   ],
   "source": [
    "plt.figure(figsize=(16,8))\n",
    "plt.title('PREDICTOR')\n",
    "plt.xlabel('Date')\n",
    "plt.ylabel('Price')\n",
    "plt.plot(train['Close'])\n",
    "plt.plot(valid[['Close','prediction']])\n",
    "plt.legend(['Train','Value','Prediction'])\n",
    "plt.savefig('accuracy.png')\n",
    "plt.show()"
   ]
  },
  {
   "cell_type": "code",
   "execution_count": 20,
   "id": "c542858d",
   "metadata": {},
   "outputs": [
    {
     "data": {
      "text/plain": [
       "DeltaGenerator(_root_container=0, _provided_cursor=None, _parent=None, _block_type=None, _form_data=None)"
      ]
     },
     "execution_count": 20,
     "metadata": {},
     "output_type": "execute_result"
    }
   ],
   "source": [
    "st.header('STOCK PREDICTOR ACCURACY : ')\n",
    "imag=Image.open('C:/Users/lenovo/accuracy.png')\n",
    "st.image(imag,width=600)"
   ]
  },
  {
   "cell_type": "code",
   "execution_count": 21,
   "id": "2b781a82",
   "metadata": {},
   "outputs": [],
   "source": [
    "newdf=data[-60:].values"
   ]
  },
  {
   "cell_type": "code",
   "execution_count": 22,
   "id": "fa4c4f5e",
   "metadata": {},
   "outputs": [],
   "source": [
    "snewdf=scaler.transform(newdf)"
   ]
  },
  {
   "cell_type": "code",
   "execution_count": 23,
   "id": "529d972f",
   "metadata": {},
   "outputs": [],
   "source": [
    "xtest=[]\n",
    "xtest.append(snewdf)\n",
    "xtest=np.array(xtest)\n",
    "xtest=np.reshape(xtest,(xtest.shape[0],xtest.shape[1],1))"
   ]
  },
  {
   "cell_type": "code",
   "execution_count": 24,
   "id": "81725ff3",
   "metadata": {},
   "outputs": [
    {
     "name": "stdout",
     "output_type": "stream",
     "text": [
      "1/1 [==============================] - 0s 37ms/step\n"
     ]
    },
    {
     "data": {
      "text/plain": [
       "DeltaGenerator(_root_container=0, _provided_cursor=None, _parent=None, _block_type=None, _form_data=None)"
      ]
     },
     "execution_count": 24,
     "metadata": {},
     "output_type": "execute_result"
    }
   ],
   "source": [
    "pred=model.predict(xtest)\n",
    "pred=scaler.inverse_transform(pred)\n",
    "st.header('predicted price for next day:')\n",
    "st.success(pred)"
   ]
  },
  {
   "cell_type": "code",
   "execution_count": null,
   "id": "49db77cf",
   "metadata": {},
   "outputs": [],
   "source": []
  }
 ],
 "metadata": {
  "kernelspec": {
   "display_name": "Python 3 (ipykernel)",
   "language": "python",
   "name": "python3"
  },
  "language_info": {
   "codemirror_mode": {
    "name": "ipython",
    "version": 3
   },
   "file_extension": ".py",
   "mimetype": "text/x-python",
   "name": "python",
   "nbconvert_exporter": "python",
   "pygments_lexer": "ipython3",
   "version": "3.9.7"
  }
 },
 "nbformat": 4,
 "nbformat_minor": 5
}
