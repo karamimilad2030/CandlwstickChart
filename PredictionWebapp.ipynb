{
 "cells": [
  {
   "cell_type": "code",
   "execution_count": 1,
   "id": "a5f3223d",
   "metadata": {},
   "outputs": [],
   "source": [
    "import numpy as np \n",
    "import pandas as pd\n",
    "from sklearn.linear_model import LinearRegression\n",
    "from sklearn.svm import SVR\n",
    "from sklearn.model_selection import train_test_split\n",
    "import streamlit as st\n",
    "from PIL import Image"
   ]
  },
  {
   "cell_type": "code",
   "execution_count": 2,
   "id": "3781921f",
   "metadata": {},
   "outputs": [
    {
     "name": "stderr",
     "output_type": "stream",
     "text": [
      "2023-11-08 23:09:49.792 \n",
      "  \u001b[33m\u001b[1mWarning:\u001b[0m to view this Streamlit app on a browser, run it with the following\n",
      "  command:\n",
      "\n",
      "    streamlit run C:\\ProgramData\\Anaconda3\\lib\\site-packages\\ipykernel_launcher.py [ARGUMENTS]\n"
     ]
    },
    {
     "data": {
      "text/plain": [
       "DeltaGenerator(_root_container=0, _provided_cursor=None, _parent=None, _block_type=None, _form_data=None)"
      ]
     },
     "execution_count": 2,
     "metadata": {},
     "output_type": "execute_result"
    }
   ],
   "source": [
    "st.write('''\n",
    "# STOCK VISUALIZER\n",
    "\n",
    "**Karami Milad**\n",
    "\n",
    "''')\n",
    "img= Image.open('C:/Users/lenovo/trade.jpg')\n",
    "st.image(img,width=600)"
   ]
  },
  {
   "cell_type": "code",
   "execution_count": 3,
   "id": "609ee685",
   "metadata": {},
   "outputs": [],
   "source": [
    "st.sidebar.header('INSERT DATA')\n",
    "def data():\n",
    "    n=st.sidebar.text_input('How many days you wanna predict? ',5)\n",
    "    symbol=st.sidebar.selectbox('Select The Symbol : ',['FOOLAD','AMZN','KHODRO','TSLA'])\n",
    "    return n , symbol"
   ]
  },
  {
   "cell_type": "code",
   "execution_count": 4,
   "id": "16c533f5",
   "metadata": {},
   "outputs": [],
   "source": [
    "def get_data():\n",
    "    if symbol=='FOOLAD':\n",
    "        df=pd.read_csv('C:/Users/lenovo/foolad.csv')\n",
    "    elif symbol=='KHODRO':\n",
    "        df=pd.read_csv('C:/Users/lenovo/khodo.csv')\n",
    "    elif symbol=='AMZN':\n",
    "        df=pd.read_csv('C:/Users/lenovo/amzn.csv')\n",
    "    elif symbol=='TSLA':\n",
    "        df=pd.read_csv('C:/Users/lenovo/tsla.csv')\n",
    "        \n",
    "    df=df.set_index(pd.DatetimeIndex(df['Date'].values)) \n",
    "    return df"
   ]
  },
  {
   "cell_type": "code",
   "execution_count": 5,
   "id": "9e661a21",
   "metadata": {},
   "outputs": [],
   "source": [
    "def get_company_name(symbol):\n",
    "    if symbol=='FOOLAD':\n",
    "        return 'FOOLAD'\n",
    "    elif symbol== 'KHODRO':\n",
    "        return 'KHODRO'\n",
    "    elif symbol== 'AMZN':\n",
    "        return 'AMAZON'\n",
    "    elif symbol=='TSLA':\n",
    "        return 'TESLA'\n",
    "    else :\n",
    "        return  'NONE'"
   ]
  },
  {
   "cell_type": "code",
   "execution_count": 6,
   "id": "4bd2875b",
   "metadata": {},
   "outputs": [],
   "source": [
    "n , symbol = data()\n",
    "df=get_data()\n",
    "company=get_company_name(symbol)\n",
    "st.header(company + 'Close Price\\n')\n",
    "st.line_chart(df['Close'])\n",
    "st.header(company + 'Volume\\n')\n",
    "st.line_chart(df['Volume'])\n",
    "st.header('Stock Datas')\n",
    "st.write(df.describe())"
   ]
  },
  {
   "cell_type": "code",
   "execution_count": 7,
   "id": "7e3c54f6",
   "metadata": {},
   "outputs": [
    {
     "name": "stderr",
     "output_type": "stream",
     "text": [
      "C:\\Users\\lenovo\\AppData\\Local\\Temp/ipykernel_27020/917507112.py:4: FutureWarning: In a future version of pandas all arguments of DataFrame.drop except for the argument 'labels' will be keyword-only\n",
      "  x= np.array(df.drop(['Prediction'],1))\n"
     ]
    }
   ],
   "source": [
    "df=df[['Close']]\n",
    "forecast=int(n)\n",
    "df['Prediction']=df[['Close']].shift(-forecast)\n",
    "x= np.array(df.drop(['Prediction'],1))\n",
    "x= x[:-forecast]\n",
    "y= np.array(df['Prediction'])\n",
    "y=y[:-forecast]"
   ]
  },
  {
   "cell_type": "code",
   "execution_count": 8,
   "id": "63e964f6",
   "metadata": {},
   "outputs": [
    {
     "data": {
      "text/plain": [
       "DeltaGenerator(_root_container=0, _provided_cursor=None, _parent=None, _block_type=None, _form_data=None)"
      ]
     },
     "execution_count": 8,
     "metadata": {},
     "output_type": "execute_result"
    }
   ],
   "source": [
    "xtrain , xtest , ytrain , ytest=train_test_split(x,y,test_size=0.2)\n",
    "mysvr=SVR(kernel='rbf',C=1000,gamma=0.1)\n",
    "mysvr.fit(xtrain,ytrain)\n",
    "svmconf=mysvr.score(xtest,ytest)\n",
    "st.header('SVM Accuracy')\n",
    "st.success(svmconf)"
   ]
  },
  {
   "cell_type": "code",
   "execution_count": 9,
   "id": "263ca21b",
   "metadata": {},
   "outputs": [
    {
     "name": "stderr",
     "output_type": "stream",
     "text": [
      "C:\\Users\\lenovo\\AppData\\Local\\Temp/ipykernel_27020/1153462177.py:1: FutureWarning: In a future version of pandas all arguments of DataFrame.drop except for the argument 'labels' will be keyword-only\n",
      "  x_forecast=np.array(df.drop(['Prediction'],1))[-forecast:]\n"
     ]
    },
    {
     "data": {
      "text/plain": [
       "DeltaGenerator(_root_container=0, _provided_cursor=None, _parent=None, _block_type=None, _form_data=None)"
      ]
     },
     "execution_count": 9,
     "metadata": {},
     "output_type": "execute_result"
    }
   ],
   "source": [
    "x_forecast=np.array(df.drop(['Prediction'],1))[-forecast:]\n",
    "svmpred=mysvr.predict(x_forecast)\n",
    "st.header('SVM Prediction')\n",
    "st.success(svmpred)"
   ]
  },
  {
   "cell_type": "code",
   "execution_count": 10,
   "id": "2c8f7c4a",
   "metadata": {},
   "outputs": [
    {
     "data": {
      "text/plain": [
       "DeltaGenerator(_root_container=0, _provided_cursor=None, _parent=None, _block_type=None, _form_data=None)"
      ]
     },
     "execution_count": 10,
     "metadata": {},
     "output_type": "execute_result"
    }
   ],
   "source": [
    "lr=LinearRegression()\n",
    "lr.fit(xtrain,ytrain)\n",
    "lrconf=lr.score(xtest,ytest)\n",
    "st.header('LR Accuracy')\n",
    "st.success(lrconf)"
   ]
  },
  {
   "cell_type": "code",
   "execution_count": 11,
   "id": "5d9a62ba",
   "metadata": {},
   "outputs": [
    {
     "data": {
      "text/plain": [
       "DeltaGenerator(_root_container=0, _provided_cursor=None, _parent=None, _block_type=None, _form_data=None)"
      ]
     },
     "execution_count": 11,
     "metadata": {},
     "output_type": "execute_result"
    }
   ],
   "source": [
    "lrpred=lr.predict(x_forecast)\n",
    "st.header('LR Prediction')\n",
    "st.success(lrpred)"
   ]
  },
  {
   "cell_type": "code",
   "execution_count": null,
   "id": "b7e8c4ba",
   "metadata": {},
   "outputs": [],
   "source": []
  }
 ],
 "metadata": {
  "kernelspec": {
   "display_name": "Python 3 (ipykernel)",
   "language": "python",
   "name": "python3"
  },
  "language_info": {
   "codemirror_mode": {
    "name": "ipython",
    "version": 3
   },
   "file_extension": ".py",
   "mimetype": "text/x-python",
   "name": "python",
   "nbconvert_exporter": "python",
   "pygments_lexer": "ipython3",
   "version": "3.9.7"
  }
 },
 "nbformat": 4,
 "nbformat_minor": 5
}
